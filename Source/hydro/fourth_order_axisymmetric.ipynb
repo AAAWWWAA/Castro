{
 "cells": [
  {
   "cell_type": "code",
   "execution_count": 2,
   "metadata": {},
   "outputs": [
    {
     "name": "stdout",
     "output_type": "stream",
     "text": [
      "IPython console for SymPy 1.3 (Python 3.7.3-64-bit) (ground types: gmpy)\n",
      "\n",
      "These commands were executed:\n",
      ">>> from __future__ import division\n",
      ">>> from sympy import *\n",
      ">>> x, y, z, t = symbols('x y z t')\n",
      ">>> k, m, n = symbols('k m n', integer=True)\n",
      ">>> f, g, h = symbols('f g h', cls=Function)\n",
      ">>> init_printing()\n",
      "\n",
      "Documentation can be found at http://docs.sympy.org/1.3/\n",
      "\n"
     ]
    }
   ],
   "source": [
    "from sympy import init_session\n",
    "init_session()"
   ]
  },
  {
   "cell_type": "code",
   "execution_count": 5,
   "metadata": {},
   "outputs": [
    {
     "data": {
      "image/png": "[encoded data removed]",
      "text/latex": [
       "$$f^{(1)} \\left(r - r_{i}\\right) + \\frac{f^{(2)} \\left(r - r_{i}\\right)^{2}}{2} + \\frac{f^{(3)} \\left(r - r_{i}\\right)^{3}}{6} + \\frac{f^{(4)} \\left(r - r_{i}\\right)^{4}}{24} + f_{i}$$"
      ],
      "text/plain": [
       "                                     2                    3                   \n",
       "                    f__{(2)}⋅(r - rᵢ)    f__{(3)}⋅(r - rᵢ)    f__{(4)}⋅(r - rᵢ\n",
       "f__{(1)}⋅(r - rᵢ) + ────────────────── + ────────────────── + ────────────────\n",
       "                            2                    6                    24      \n",
       "\n",
       " 4     \n",
       ")      \n",
       "── + fᵢ\n",
       "       "
      ]
     },
     "execution_count": 5,
     "metadata": {},
     "output_type": "execute_result"
    }
   ],
   "source": [
    "r0, r = symbols(\"r_i r\")\n",
    "f0, f1, f2, f3, f4 = symbols(\"f_i  f^{(1)} f^{(2)} f^{(3)} f^{(4)}\")\n",
    "f = f0 + f1*(r - r0) + f2*(r - r0)**2/2 + f3*(r - r0)**3/6 + f4*(r - r0)**4/24\n",
    "f"
   ]
  },
  {
   "cell_type": "code",
   "execution_count": 12,
   "metadata": {},
   "outputs": [],
   "source": [
    "dr = symbols(\"\\Delta{}r\")"
   ]
  },
  {
   "cell_type": "code",
   "execution_count": 16,
   "metadata": {},
   "outputs": [],
   "source": [
    "rm12 = r0 - Rational(1,2)*dr\n",
    "rp12 = r0 + Rational(1,2)*dr"
   ]
  },
  {
   "cell_type": "code",
   "execution_count": 17,
   "metadata": {},
   "outputs": [
    {
     "data": {
      "image/png": "[encoded data removed]",
      "text/latex": [
       "$$\\left ( - \\frac{\\Delta{}r}{2} + r_{i}, \\quad \\frac{\\Delta{}r}{2} + r_{i}\\right )$$"
      ],
      "text/plain": [
       "⎛  \\Delta{}r       \\Delta{}r     ⎞\n",
       "⎜- ───────── + rᵢ, ───────── + rᵢ⎟\n",
       "⎝      2               2         ⎠"
      ]
     },
     "execution_count": 17,
     "metadata": {},
     "output_type": "execute_result"
    }
   ],
   "source": [
    "rm12, rp12"
   ]
  },
  {
   "cell_type": "markdown",
   "metadata": {},
   "source": [
    "Next perform the integals of $f(x)$ over each zone"
   ]
  },
  {
   "cell_type": "code",
   "execution_count": 22,
   "metadata": {},
   "outputs": [],
   "source": [
    "A = simplify(integrate(f*r/(r0*dr), (r, rm12, rp12)))"
   ]
  },
  {
   "cell_type": "code",
   "execution_count": 23,
   "metadata": {},
   "outputs": [
    {
     "data": {
      "image/png": "[encoded data removed]",
      "text/latex": [
       "$$\\frac{\\Delta{}r^{4} f^{(3)}}{480 r_{i}} + \\frac{\\Delta{}r^{4} f^{(4)}}{1920} + \\frac{\\Delta{}r^{2} f^{(1)}}{12 r_{i}} + \\frac{\\Delta{}r^{2} f^{(2)}}{24} + f_{i}$$"
      ],
      "text/plain": [
       "         4                     4                     2                     2  \n",
       "\\Delta{}r ⋅f__{(3)}   \\Delta{}r ⋅f__{(4)}   \\Delta{}r ⋅f__{(1)}   \\Delta{}r ⋅f\n",
       "─────────────────── + ─────────────────── + ─────────────────── + ────────────\n",
       "       480⋅rᵢ                 1920                 12⋅rᵢ                   24 \n",
       "\n",
       "            \n",
       "__{(2)}     \n",
       "─────── + fᵢ\n",
       "            "
      ]
     },
     "execution_count": 23,
     "metadata": {},
     "output_type": "execute_result"
    }
   ],
   "source": [
    "A"
   ]
  }
 ],
 "metadata": {
  "kernelspec": {
   "display_name": "Python 3",
   "language": "python",
   "name": "python3"
  },
  "language_info": {
   "codemirror_mode": {
    "name": "ipython",
    "version": 3
   },
   "file_extension": ".py",
   "mimetype": "text/x-python",
   "name": "python",
   "nbconvert_exporter": "python",
   "pygments_lexer": "ipython3",
   "version": "3.7.3"
  }
 },
 "nbformat": 4,
 "nbformat_minor": 1
}
