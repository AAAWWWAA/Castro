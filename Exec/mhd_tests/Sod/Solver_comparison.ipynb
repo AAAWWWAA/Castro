{
 "cells": [
  {
   "cell_type": "code",
   "execution_count": 1,
   "metadata": {},
   "outputs": [
    {
     "name": "stderr",
     "output_type": "stream",
     "text": [
      "/home/mbarrios/Documents/yt-conda/lib/python3.6/site-packages/h5py/__init__.py:36: FutureWarning: Conversion of the second argument of issubdtype from `float` to `np.floating` is deprecated. In future, it will be treated as `np.float64 == np.dtype(float).type`.\n",
      "  from ._conv import register_converters as _register_converters\n"
     ]
    }
   ],
   "source": [
    "from matplotlib import pyplot as plt\n",
    "\n",
    "import yt\n",
    "import numpy as np"
   ]
  },
  {
   "cell_type": "code",
   "execution_count": 2,
   "metadata": {},
   "outputs": [
    {
     "name": "stderr",
     "output_type": "stream",
     "text": [
      "yt : [INFO     ] 2018-01-24 15:22:10,622 Parameters: current_time              = 0.2\n",
      "yt : [INFO     ] 2018-01-24 15:22:10,623 Parameters: domain_dimensions         = [ 4  4 32]\n",
      "yt : [INFO     ] 2018-01-24 15:22:10,623 Parameters: domain_left_edge          = [0. 0. 0.]\n",
      "yt : [INFO     ] 2018-01-24 15:22:10,624 Parameters: domain_right_edge         = [0.125 0.125 1.   ]\n"
     ]
    },
    {
     "data": {
      "image/png": "[encoded data removed]",
      "text/plain": [
       "<matplotlib.figure.Figure at 0x7f0bafcf5588>"
      ]
     },
     "metadata": {},
     "output_type": "display_data"
    }
   ],
   "source": [
    "ds = yt.load(\"using_Hydro2/sod_z_plt00034\")\n",
    "ray = ds.ortho_ray(2,(0,0))\n",
    "ray_sort = np.argsort(ray[\"z\"])\n",
    "\n",
    "x = np.array(ray['z'][ray_sort])\n",
    "\n",
    "\n",
    "plt.plot(x, np.array(ray['density'][ray_sort]))\n",
    "plt.savefig(\"hydro.png\")\n",
    "plt.show()"
   ]
  },
  {
   "cell_type": "code",
   "execution_count": 3,
   "metadata": {},
   "outputs": [
    {
     "name": "stderr",
     "output_type": "stream",
     "text": [
      "yt : [INFO     ] 2018-01-24 15:22:13,615 Parameters: current_time              = 0.2\n",
      "yt : [INFO     ] 2018-01-24 15:22:13,616 Parameters: domain_dimensions         = [ 4  4 32]\n",
      "yt : [INFO     ] 2018-01-24 15:22:13,617 Parameters: domain_left_edge          = [0. 0. 0.]\n",
      "yt : [INFO     ] 2018-01-24 15:22:13,617 Parameters: domain_right_edge         = [0.125 0.125 1.   ]\n"
     ]
    },
    {
     "data": {
      "image/png": "[encoded data removed]",
      "text/plain": [
       "<matplotlib.figure.Figure at 0x7f0badbd22e8>"
      ]
     },
     "metadata": {},
     "output_type": "display_data"
    }
   ],
   "source": [
    "ds2 = yt.load(\"sod_z_plt00034\")\n",
    "ray = ds2.ortho_ray(2,(0,0))\n",
    "ray_sort = np.argsort(ray[\"z\"])\n",
    "\n",
    "x = np.array(ray['z'][ray_sort])\n",
    "\n",
    "\n",
    "plt.plot(x, np.array(ray['density'][ray_sort]))\n",
    "plt.savefig(\"mhd.png\")\n",
    "plt.show()"
   ]
  },
  {
   "cell_type": "code",
   "execution_count": null,
   "metadata": {},
   "outputs": [],
   "source": []
  }
 ],
 "metadata": {
  "kernelspec": {
   "display_name": "Python 3",
   "language": "python",
   "name": "python3"
  },
  "language_info": {
   "codemirror_mode": {
    "name": "ipython",
    "version": 3
   },
   "file_extension": ".py",
   "mimetype": "text/x-python",
   "name": "python",
   "nbconvert_exporter": "python",
   "pygments_lexer": "ipython3",
   "version": "3.6.4"
  }
 },
 "nbformat": 4,
 "nbformat_minor": 2
}
